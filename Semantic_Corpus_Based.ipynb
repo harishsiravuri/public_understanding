{
 "cells": [
  {
   "cell_type": "code",
   "execution_count": 1,
   "metadata": {
    "collapsed": false
   },
   "outputs": [
    {
     "ename": "TypeError",
     "evalue": "'>' not supported between instances of 'NoneType' and 'float'",
     "output_type": "error",
     "traceback": [
      "\u001b[0;31m---------------------------------------------------------------------------\u001b[0m",
      "\u001b[0;31mTypeError\u001b[0m                                 Traceback (most recent call last)",
      "\u001b[0;32m<ipython-input-1-c598b2b3e273>\u001b[0m in \u001b[0;36m<module>\u001b[0;34m()\u001b[0m\n\u001b[1;32m     75\u001b[0m     \u001b[0msentence_a\u001b[0m \u001b[1;33m=\u001b[0m \u001b[1;34m\"Aluminium is part of a compound that is known to cause breast cancer.\"\u001b[0m\u001b[1;33m\u001b[0m\u001b[0m\n\u001b[1;32m     76\u001b[0m     \u001b[0msentence_b\u001b[0m \u001b[1;33m=\u001b[0m \u001b[1;34m\"Aluminium is responsible for breast cancer.\"\u001b[0m\u001b[1;33m\u001b[0m\u001b[0m\n\u001b[0;32m---> 77\u001b[0;31m     \u001b[0mprint\u001b[0m \u001b[1;33m(\u001b[0m\u001b[0mgen_similarity_score\u001b[0m\u001b[1;33m(\u001b[0m\u001b[0msentence_a\u001b[0m\u001b[1;33m,\u001b[0m \u001b[0msentence_b\u001b[0m\u001b[1;33m)\u001b[0m\u001b[1;33m)\u001b[0m\u001b[1;33m\u001b[0m\u001b[0m\n\u001b[0m\u001b[1;32m     78\u001b[0m     \u001b[0mprint\u001b[0m \u001b[1;33m(\u001b[0m\u001b[0mgen_similarity_score\u001b[0m\u001b[1;33m(\u001b[0m\u001b[0msentence_b\u001b[0m\u001b[1;33m,\u001b[0m \u001b[0msentence_a\u001b[0m\u001b[1;33m)\u001b[0m\u001b[1;33m)\u001b[0m\u001b[1;33m\u001b[0m\u001b[0m\n\u001b[1;32m     79\u001b[0m     \u001b[0mprint\u001b[0m \u001b[1;33m(\u001b[0m\u001b[0mgen_symmetric_similarity_score\u001b[0m\u001b[1;33m(\u001b[0m\u001b[0msentence_a\u001b[0m\u001b[1;33m,\u001b[0m \u001b[0msentence_b\u001b[0m\u001b[1;33m)\u001b[0m\u001b[1;33m)\u001b[0m\u001b[1;33m\u001b[0m\u001b[0m\n",
      "\u001b[0;32m<ipython-input-1-c598b2b3e273>\u001b[0m in \u001b[0;36mgen_similarity_score\u001b[0;34m(sentence_a, sentence_b)\u001b[0m\n\u001b[1;32m     48\u001b[0m \u001b[1;33m\u001b[0m\u001b[0m\n\u001b[1;32m     49\u001b[0m     \u001b[1;32mfor\u001b[0m \u001b[0msynset\u001b[0m \u001b[1;32min\u001b[0m \u001b[0msynset_of_senta\u001b[0m\u001b[1;33m:\u001b[0m\u001b[1;33m\u001b[0m\u001b[0m\n\u001b[0;32m---> 50\u001b[0;31m         \u001b[0mefficiency\u001b[0m \u001b[1;33m=\u001b[0m \u001b[0mmax\u001b[0m\u001b[1;33m(\u001b[0m\u001b[1;33m[\u001b[0m\u001b[0msynset\u001b[0m\u001b[1;33m.\u001b[0m\u001b[0mpath_similarity\u001b[0m\u001b[1;33m(\u001b[0m\u001b[0ms\u001b[0m\u001b[1;33m)\u001b[0m \u001b[1;32mfor\u001b[0m \u001b[0ms\u001b[0m \u001b[1;32min\u001b[0m \u001b[0msynset_of_sentb\u001b[0m\u001b[1;33m]\u001b[0m\u001b[1;33m)\u001b[0m\u001b[1;33m\u001b[0m\u001b[0m\n\u001b[0m\u001b[1;32m     51\u001b[0m \u001b[1;33m\u001b[0m\u001b[0m\n\u001b[1;32m     52\u001b[0m         \u001b[1;32mif\u001b[0m \u001b[0mefficiency\u001b[0m \u001b[1;32mis\u001b[0m \u001b[1;32mnot\u001b[0m \u001b[1;32mNone\u001b[0m\u001b[1;33m:\u001b[0m\u001b[1;33m\u001b[0m\u001b[0m\n",
      "\u001b[0;31mTypeError\u001b[0m: '>' not supported between instances of 'NoneType' and 'float'"
     ]
    }
   ],
   "source": [
    "# This Source Code Form is subject to the terms of the MPL\n",
    "# License. If a copy of the same was not distributed with this\n",
    "# file, You can obtain one at\n",
    "# https://github.com/AkhilHector/pubundsci/blob/master/LICENSE.\n",
    "\n",
    "import sys\n",
    "import nltk\n",
    "import string\n",
    "from nltk.corpus import wordnet\n",
    "\n",
    "def change_pos_tag(entity):\n",
    "    if entity.startswith('N'):\n",
    "        return 'n'\n",
    "\n",
    "    if entity.startswith('V'):\n",
    "        return 'v'\n",
    "\n",
    "    if entity.startswith('J'):\n",
    "        return 'a'\n",
    "\n",
    "    if entity.startswith('R'):\n",
    "        return 'r'\n",
    "\n",
    "    return None\n",
    "\n",
    "def indentify_synset(word, tag):\n",
    "    word_net_tag = change_pos_tag(tag)\n",
    "    if word_net_tag is None:\n",
    "        return None\n",
    "\n",
    "    return wordnet.synsets(word, word_net_tag)[0]\n",
    "\n",
    "def gen_similarity_score(sentence_a, sentence_b):\n",
    "    # Init the variables\n",
    "    similarity_score, simulation_count = 0.0, 0\n",
    "\n",
    "    # POS tag and takenize the given sentences\n",
    "    sentence_a = nltk.pos_tag(nltk.word_tokenize(sentence_a))\n",
    "    sentence_b = nltk.pos_tag(nltk.word_tokenize(sentence_b))\n",
    "\n",
    "    # Capture the synsets from the sentence and pass the unecessary args\n",
    "    # into a new empty dict\n",
    "    synset_of_senta = [indentify_synset(word, tag) for word,tag in sentence_a]\n",
    "    synset_of_sentb = [indentify_synset(word, tag) for word,tag in sentence_b]\n",
    "\n",
    "    synset_of_senta = [s for s in synset_of_senta if s]\n",
    "    synset_of_sentb = [s for s in synset_of_sentb if s]\n",
    "\n",
    "    for synset in synset_of_senta:\n",
    "        efficiency = max([synset.path_similarity(s) for s in synset_of_sentb])\n",
    "\n",
    "        if efficiency is not None:\n",
    "            similarity_score += efficiency\n",
    "            simulation_count += 1\n",
    "\n",
    "    similarity_score /= simulation_count\n",
    "    return similarity_score\n",
    "\n",
    "\n",
    "def gen_symmetric_similarity_score(sentence_a, sentence_b):\n",
    "    symmetric_similarity_score = (gen_similarity_score(sentence_a, sentence_b) + gen_similarity_score(sentence_b, sentence_a))/2\n",
    "    return symmetric_similarity_score\n",
    "\n",
    "if __name__ == \"__main__\":\n",
    "    # sentence_a = \"Aluminium is part of a compound that is known to cause breast cancer.\"\n",
    "    # sentence_b = \"Aluminium is responsible for breast cancer.\"\n",
    "    # sentence_a = \"Will you do it?\"\n",
    "    # sentence_b = \"Do you will it?\"\n",
    "    # sentence_a = \"Woman, without her man, is helpless.\"\n",
    "    # sentence_b = \"Woman! Without her, man is helpless!\"\n",
    "    # sentence_a = \"Chances of you missing the flight are rare.\"\n",
    "    # sentence_b = \"You will not miss the flight.\"\n",
    "    # sentence_a = \"I should be able to finish the work this week.\"\n",
    "    # sentence_b = \"I will finish the work this week.\"\n",
    "    sentence_a = \"Aluminium is part of a compound that is known to cause breast cancer.\"\n",
    "    sentence_b = \"Aluminium is responsible for breast cancer.\"\n",
    "    print (gen_similarity_score(sentence_a, sentence_b))\n",
    "    print (gen_similarity_score(sentence_b, sentence_a))\n",
    "    print (gen_symmetric_similarity_score(sentence_a, sentence_b))\n",
    "    print (gen_symmetric_similarity_score(sentence_b, sentence_a))\n",
    "else:\n",
    "    sys.exit(0)"
   ]
  },
  {
   "cell_type": "code",
   "execution_count": null,
   "metadata": {
    "collapsed": true
   },
   "outputs": [],
   "source": []
  }
 ],
 "metadata": {
  "kernelspec": {
   "display_name": "Python 3",
   "language": "python",
   "name": "python3"
  },
  "language_info": {
   "codemirror_mode": {
    "name": "ipython",
    "version": 3
   },
   "file_extension": ".py",
   "mimetype": "text/x-python",
   "name": "python",
   "nbconvert_exporter": "python",
   "pygments_lexer": "ipython3",
   "version": "3.6.0"
  }
 },
 "nbformat": 4,
 "nbformat_minor": 2
}
